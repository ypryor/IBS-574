{
 "cells": [
  {
   "cell_type": "markdown",
   "metadata": {},
   "source": [
    "# Yemko Pryor IBS 574 Python Homework 2\n"
   ]
  },
  {
   "cell_type": "markdown",
   "metadata": {},
   "source": [
    "#### Add your name and the date your notebook was last updated"
   ]
  },
  {
   "cell_type": "code",
   "execution_count": 1,
   "metadata": {},
   "outputs": [
    {
     "name": "stdout",
     "output_type": "stream",
     "text": [
      "Yemko Pryor 2020-02-14\n"
     ]
    }
   ],
   "source": [
    "%reload_ext watermark\n",
    "%watermark -a \"Yemko Pryor\" -d"
   ]
  },
  {
   "cell_type": "markdown",
   "metadata": {},
   "source": [
    "#### Load libraries"
   ]
  },
  {
   "cell_type": "code",
   "execution_count": 2,
   "metadata": {},
   "outputs": [],
   "source": [
    "import pandas as pd\n",
    "import numpy as np\n",
    "from sinfo import sinfo\n",
    "from sklearn.decomposition import PCA\n",
    "from sklearn import preprocessing\n",
    "from sklearn.preprocessing import StandardScaler\n",
    "import seaborn as sns"
   ]
  },
  {
   "cell_type": "markdown",
   "metadata": {},
   "source": [
    "#### Load data\n",
    "note: include your test for this chunk from previous homework"
   ]
  },
  {
   "cell_type": "code",
   "execution_count": 3,
   "metadata": {},
   "outputs": [
    {
     "data": {
      "text/plain": [
       "True"
      ]
     },
     "execution_count": 3,
     "metadata": {},
     "output_type": "execute_result"
    }
   ],
   "source": [
    "countdata = \"https://raw.githubusercontent.com/jessmrandall/IBS574Spring2020/master/data/countdata.csv\"\n",
    "counts = pd.read_csv(countdata, index_col = 0, sep = \"\\t\")\n",
    "len(counts.columns) == 14"
   ]
  },
  {
   "cell_type": "markdown",
   "metadata": {},
   "source": [
    "#### Transpose counts"
   ]
  },
  {
   "cell_type": "code",
   "execution_count": 5,
   "metadata": {},
   "outputs": [
    {
     "data": {
      "text/plain": [
       "True"
      ]
     },
     "execution_count": 5,
     "metadata": {},
     "output_type": "execute_result"
    }
   ],
   "source": [
    "counts_transpose = counts.T\n",
    "len(counts_transpose) == 14"
   ]
  },
  {
   "cell_type": "markdown",
   "metadata": {},
   "source": [
    "#### Add a column of target values to the transposed data frame"
   ]
  },
  {
   "cell_type": "code",
   "execution_count": 7,
   "metadata": {},
   "outputs": [],
   "source": [
    "group = [\"Control\", \"Control\",\"Control\",\"Control\",\"Control\",\"Control\",\"Control\", \n",
    "         \"Cases\",\"Cases\",\"Cases\",\"Cases\",\"Cases\",\"Cases\",\"Cases\"]\n",
    "counts_transpose[\"group\"] = group"
   ]
  },
  {
   "cell_type": "markdown",
   "metadata": {},
   "source": [
    "#### Perform Scaling"
   ]
  },
  {
   "cell_type": "code",
   "execution_count": 11,
   "metadata": {},
   "outputs": [
    {
     "data": {
      "text/plain": [
       "array([[ 1.86451581,  1.91780686, -0.72558924, ..., -0.5823493 ,\n",
       "         1.86280692,  1.22298748],\n",
       "       [ 1.3234291 ,  1.52088387, -0.72558924, ..., -0.70074623,\n",
       "         1.44449312,  0.73603957],\n",
       "       [ 0.78047011,  1.12446975, -0.72558924, ..., -0.81914316,\n",
       "         1.02764708,  0.24992835],\n",
       "       ...,\n",
       "       [-0.14817698, -0.4072459 ,  1.61862216, ...,  1.24864397,\n",
       "         0.00461298,  0.71177585],\n",
       "       [ 0.32176338, -0.12838205,  1.61862216, ...,  1.52605879,\n",
       "         0.34366733,  1.23302765],\n",
       "       [ 0.79170375,  0.15048179,  1.61862216, ...,  1.80361224,\n",
       "         0.68272167,  1.75511613]])"
      ]
     },
     "execution_count": 11,
     "metadata": {},
     "output_type": "execute_result"
    }
   ],
   "source": [
    "random.seed(60643)\n",
    "features = pd.Series(counts_transpose.columns)[0:14944]\n",
    "feature_array = counts_transpose.loc[:, features].values\n",
    "target_array = counts_transpose.loc[:, [\"group\"]].values\n",
    "fitted_features = StandardScaler().fit_transform(feature_array)"
   ]
  },
  {
   "cell_type": "markdown",
   "metadata": {},
   "source": [
    "#### Determine Principal Components & Combine with Target"
   ]
  },
  {
   "cell_type": "code",
   "execution_count": 20,
   "metadata": {},
   "outputs": [],
   "source": [
    "pca = PCA(n_components = 2)\n",
    "pComponents = pca.fit_transform(fitted_features)\n",
    "pDataframe = pd.DataFrame(data = pComponents, columns = [\"PC1\", \"PC2\"])\n",
    "pDataframe.index = counts_transpose.index\n",
    "targetDataframe = counts_transpose[[\"group\"]]\n",
    "newDataframe = pd.concat([pDataframe, targetDataframe], axis = 1)\n"
   ]
  },
  {
   "cell_type": "markdown",
   "metadata": {},
   "source": [
    "#### Test that principal components were computed correctly & combined sucessfully"
   ]
  },
  {
   "cell_type": "code",
   "execution_count": 22,
   "metadata": {},
   "outputs": [
    {
     "data": {
      "text/plain": [
       "True"
      ]
     },
     "execution_count": 22,
     "metadata": {},
     "output_type": "execute_result"
    }
   ],
   "source": [
    "pDataframe[\"PC1\"].max()\n",
    "pDataframe[\"PC1\"].max() == 126.57815113747431"
   ]
  },
  {
   "cell_type": "markdown",
   "metadata": {},
   "source": [
    "#### Report Session Information\n"
   ]
  },
  {
   "cell_type": "code",
   "execution_count": 23,
   "metadata": {},
   "outputs": [
    {
     "name": "stdout",
     "output_type": "stream",
     "text": [
      "-----\n",
      "numpy       1.18.1\n",
      "pandas      1.0.1\n",
      "seaborn     0.10.0\n",
      "sinfo       0.3.1\n",
      "sklearn     0.22.1\n",
      "-----\n",
      "IPython             7.12.0\n",
      "jupyter_client      5.3.4\n",
      "jupyter_core        4.6.1\n",
      "notebook            6.0.3\n",
      "-----\n",
      "Python 3.8.1 (default, Jan  8 2020, 16:15:59) [Clang 4.0.1 (tags/RELEASE_401/final)]\n",
      "macOS-10.15.2-x86_64-i386-64bit\n",
      "4 logical CPU cores, i386\n",
      "-----\n",
      "Session information updated at 2020-02-14 11:34\n"
     ]
    }
   ],
   "source": [
    "sinfo()"
   ]
  },
  {
   "cell_type": "code",
   "execution_count": null,
   "metadata": {},
   "outputs": [],
   "source": []
  },
  {
   "cell_type": "code",
   "execution_count": null,
   "metadata": {},
   "outputs": [],
   "source": []
  }
 ],
 "metadata": {
  "kernelspec": {
   "display_name": "Python 3",
   "language": "python",
   "name": "python3"
  },
  "language_info": {
   "codemirror_mode": {
    "name": "ipython",
    "version": 3
   },
   "file_extension": ".py",
   "mimetype": "text/x-python",
   "name": "python",
   "nbconvert_exporter": "python",
   "pygments_lexer": "ipython3",
   "version": "3.8.1"
  }
 },
 "nbformat": 4,
 "nbformat_minor": 2
}

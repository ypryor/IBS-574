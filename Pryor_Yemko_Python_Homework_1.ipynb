{
 "cells": [
  {
   "cell_type": "markdown",
   "metadata": {},
   "source": [
    " ## Yemko Pryor IBS 574 Python Homework 1"
   ]
  },
  {
   "cell_type": "markdown",
   "metadata": {},
   "source": [
    "### Add your name and the date your notebook was last updated"
   ]
  },
  {
   "cell_type": "code",
   "execution_count": 1,
   "metadata": {},
   "outputs": [
    {
     "name": "stdout",
     "output_type": "stream",
     "text": [
      "Yemko Pryor 2020-02-13\n"
     ]
    }
   ],
   "source": [
    "%reload_ext watermark\n",
    "%watermark -a \"Yemko Pryor\" -d"
   ]
  },
  {
   "cell_type": "markdown",
   "metadata": {},
   "source": [
    "#### Load libraries"
   ]
  },
  {
   "cell_type": "code",
   "execution_count": 1,
   "metadata": {},
   "outputs": [],
   "source": [
    "import watermark\n",
    "import pandas as pd \n",
    "import numpy as np\n",
    "from sinfo import sinfo\n"
   ]
  },
  {
   "cell_type": "markdown",
   "metadata": {},
   "source": [
    "#### Load data\n",
    "Hint: data are available here \"https://raw.githubusercontent.com/jessmrandall/IBS574Spring2020/master/data/countdata.csv\""
   ]
  },
  {
   "cell_type": "code",
   "execution_count": 5,
   "metadata": {},
   "outputs": [
    {
     "data": {
      "text/plain": [
       "<bound method NDFrame.head of            T02    T04    T06    T08   T10   T12    T14    T01    T03    T05  \\\n",
       "id                                                                            \n",
       "Aaas      4341   4052   3762   3473  2894  3193   3706   2574   2760   2512   \n",
       "Aacs     11693  10913  10134   9354  7795  6784   8448   6011   4736   5480   \n",
       "Aadac        0      0      0      0     0     0      0      0      0      2   \n",
       "Aadacl2      0      0      0      0     0     0      0      0      0      0   \n",
       "Aadacl3      0      0      0      0     0     0      0      0      0      0   \n",
       "...        ...    ...    ...    ...   ...   ...    ...    ...    ...    ...   \n",
       "Zyg11a       8      7      7      6     5     5      3     15     12      9   \n",
       "Zyg11b    4133   3857   3582   3306  2755  2381   2311   2509   2660   2555   \n",
       "Zyx      12810  11956  11102  10248  8540  9206  10722  16827  18652  20013   \n",
       "Zzef1     4269   3984   3700   3415  2846  2598   2164   2014   2224   2310   \n",
       "Zzz3      8717   8135   7554   6973  5811  5332   6638   5829   6680   6235   \n",
       "\n",
       "           T07    T09    T11    T13  \n",
       "id                                   \n",
       "Aaas      3014   3266   3517   3768  \n",
       "Aacs      6576   7124   7672   8220  \n",
       "Aadac        2      3      3      3  \n",
       "Aadacl2      0      0      0      0  \n",
       "Aadacl3      0      0      0      0  \n",
       "...        ...    ...    ...    ...  \n",
       "Zyg11a      11     12     13     14  \n",
       "Zyg11b    3066   3322   3577   3833  \n",
       "Zyx      24016  26017  28018  30020  \n",
       "Zzef1     2772   3003   3234   3465  \n",
       "Zzz3      7482   8106   8729   9353  \n",
       "\n",
       "[14944 rows x 14 columns]>"
      ]
     },
     "execution_count": 5,
     "metadata": {},
     "output_type": "execute_result"
    }
   ],
   "source": [
    "countdata = \"https://raw.githubusercontent.com/jessmrandall/IBS574Spring2020/master/data/countdata.csv\"\n",
    "counts = pd.read_csv(countdata, index_col = 0, sep = \"\\t\")\n",
    "counts.head"
   ]
  },
  {
   "cell_type": "markdown",
   "metadata": {},
   "source": [
    "#### Test data were loaded correctly"
   ]
  },
  {
   "cell_type": "code",
   "execution_count": 7,
   "metadata": {},
   "outputs": [
    {
     "data": {
      "text/plain": [
       "True"
      ]
     },
     "execution_count": 7,
     "metadata": {},
     "output_type": "execute_result"
    }
   ],
   "source": [
    "len(counts.columns) == 14"
   ]
  },
  {
   "cell_type": "markdown",
   "metadata": {},
   "source": [
    "#### Report Session Information\n"
   ]
  },
  {
   "cell_type": "code",
   "execution_count": 9,
   "metadata": {},
   "outputs": [
    {
     "name": "stdout",
     "output_type": "stream",
     "text": [
      "-----\n",
      "numpy       1.18.1\n",
      "pandas      1.0.1\n",
      "sinfo       0.3.1\n",
      "watermark   2.0.2\n",
      "-----\n",
      "IPython             7.12.0\n",
      "jupyter_client      5.3.4\n",
      "jupyter_core        4.6.1\n",
      "notebook            6.0.3\n",
      "-----\n",
      "Python 3.8.1 (default, Jan  8 2020, 16:15:59) [Clang 4.0.1 (tags/RELEASE_401/final)]\n",
      "macOS-10.15.2-x86_64-i386-64bit\n",
      "4 logical CPU cores, i386\n",
      "-----\n",
      "Session information updated at 2020-02-14 11:00\n"
     ]
    }
   ],
   "source": [
    "sinfo()"
   ]
  },
  {
   "cell_type": "code",
   "execution_count": null,
   "metadata": {},
   "outputs": [],
   "source": []
  }
 ],
 "metadata": {
  "kernelspec": {
   "display_name": "Python 3",
   "language": "python",
   "name": "python3"
  },
  "language_info": {
   "codemirror_mode": {
    "name": "ipython",
    "version": 3
   },
   "file_extension": ".py",
   "mimetype": "text/x-python",
   "name": "python",
   "nbconvert_exporter": "python",
   "pygments_lexer": "ipython3",
   "version": "3.8.1"
  }
 },
 "nbformat": 4,
 "nbformat_minor": 2
}
